{
 "cells": [
  {
   "cell_type": "markdown",
   "id": "8d200f88",
   "metadata": {},
   "source": [
    "#### Write a Python class to implement pow(x, n)\n",
    "#### Explanation:\n",
    "#### Use should be able to find the nth power of the x.(i.e x*x*x*x...n times)\n",
    "#### You must implement it using Class\n",
    "#### Sample Input:\n",
    "#### x: 10\n",
    "#### n: 2\n",
    "#### Sample Output:\n",
    "#### 100\n",
    "\n"
   ]
  },
  {
   "cell_type": "code",
   "execution_count": 11,
   "id": "059d065d",
   "metadata": {},
   "outputs": [
    {
     "ename": "IndentationError",
     "evalue": "expected an indented block after function definition on line 3 (2450300486.py, line 5)",
     "output_type": "error",
     "traceback": [
      "\u001b[1;36m  Input \u001b[1;32mIn [11]\u001b[1;36m\u001b[0m\n\u001b[1;33m    if x==0 or x==1 or n==1:\u001b[0m\n\u001b[1;37m    ^\u001b[0m\n\u001b[1;31mIndentationError\u001b[0m\u001b[1;31m:\u001b[0m expected an indented block after function definition on line 3\n"
     ]
    }
   ],
   "source": [
    "class py_solution:\n",
    "    \n",
    "    def pow(self, x, n):\n",
    "\n",
    "    if x==0 or x==1 or n==1:\n",
    "\n",
    "    return x\n",
    "\n",
    "if x==-1:\n",
    "\n",
    "if n%2==0:\n",
    "\n",
    "return 1\n",
    "\n",
    "else:\n",
    "\n",
    "return -1\n",
    "\n",
    "if n==0:\n",
    "\n",
    "return 1\n",
    "\n",
    "if n<0:\n",
    "\n",
    "return 1/self.pow(x,-n)\n",
    "\n",
    "val = self.pow(x,n//2)\n",
    "\n",
    "if n%2==0:\n",
    "\n",
    "return val*val\n",
    "\n",
    "return val*val*x\n",
    "\n",
    "x=int(input(\"Base value: 10\"))\n",
    "\n",
    "n=int(input(\"Power value: 2\"))\n",
    "\n",
    "p=pow(x,n)\n",
    "\n",
    "print(\"sample Input:\\nx:\",x,\"\\nn:\",n,\"\\nSample Output:\\n\",p)"
   ]
  },
  {
   "cell_type": "code",
   "execution_count": null,
   "id": "0d5b9235",
   "metadata": {},
   "outputs": [],
   "source": []
  }
 ],
 "metadata": {
  "kernelspec": {
   "display_name": "Python 3 (ipykernel)",
   "language": "python",
   "name": "python3"
  },
  "language_info": {
   "codemirror_mode": {
    "name": "ipython",
    "version": 3
   },
   "file_extension": ".py",
   "mimetype": "text/x-python",
   "name": "python",
   "nbconvert_exporter": "python",
   "pygments_lexer": "ipython3",
   "version": "3.10.6"
  }
 },
 "nbformat": 4,
 "nbformat_minor": 5
}
